{
  "nbformat": 4,
  "nbformat_minor": 0,
  "metadata": {
    "colab": {
      "provenance": [],
      "include_colab_link": true
    },
    "kernelspec": {
      "name": "python3",
      "display_name": "Python 3"
    },
    "language_info": {
      "name": "python"
    }
  },
  "cells": [
    {
      "cell_type": "markdown",
      "metadata": {
        "id": "view-in-github",
        "colab_type": "text"
      },
      "source": [
        "<a href=\"https://colab.research.google.com/github/Nasseima/ACT340.3.2-AdvancedStringExercise/blob/main/ACT_340_3_2_Advanced_String_Exercise.ipynb\" target=\"_parent\"><img src=\"https://colab.research.google.com/assets/colab-badge.svg\" alt=\"Open In Colab\"/></a>"
      ]
    },
    {
      "cell_type": "markdown",
      "source": [
        "# String Excercises- Advanced\n",
        "\n",
        "Complete the following practice excercises below to build up your skills with manipulating strings."
      ],
      "metadata": {
        "id": "cUylAN2Ilryc"
      }
    },
    {
      "cell_type": "markdown",
      "source": [
        "**Problem 1**\n",
        "\n",
        "Create a new string with the following sentence:\n",
        "\n",
        "“You learn more from failure than from success.\"\n",
        "<br></br>\n",
        "* Use the 1st, 4th, and last charachter to create a new string."
      ],
      "metadata": {
        "id": "27IbcjVcl6Bh"
      }
    },
    {
      "cell_type": "code",
      "source": [
        "string = \"You learn more from failure than from success.\"\n",
        "# Problem 1\n",
        "# Use the 1st, 4th, and last charachter to create a new string.\n",
        "\n",
        "new_string = string[0] + string[3] + string[-1]\n",
        "print(new_string)"
      ],
      "metadata": {
        "id": "Swq_joOAmZB2",
        "colab": {
          "base_uri": "https://localhost:8080/"
        },
        "outputId": "d74f8cef-c963-4b47-bfb0-e88db63e61b0"
      },
      "execution_count": 4,
      "outputs": [
        {
          "output_type": "stream",
          "name": "stdout",
          "text": [
            "Y .\n"
          ]
        }
      ]
    },
    {
      "cell_type": "markdown",
      "source": [
        "**Problem 2**\n",
        "\n",
        "* Use the same string variable from above\n",
        "* Use the replace() method to replace the \".\" with an \"!\""
      ],
      "metadata": {
        "id": "mGPUZkRTmoqN"
      }
    },
    {
      "cell_type": "code",
      "source": [
        "#Use the replace() method to replace the \".\" with an \"!\"\n",
        "modified_sentence = string.replace(\".\", \"!\")\n",
        "print(modified_sentence)"
      ],
      "metadata": {
        "id": "Seg9HXsFnHn-",
        "colab": {
          "base_uri": "https://localhost:8080/"
        },
        "outputId": "2e146212-5c24-4bf2-abbc-4df60639bc37"
      },
      "execution_count": 7,
      "outputs": [
        {
          "output_type": "stream",
          "name": "stdout",
          "text": [
            "You learn more from failure than from success!\n"
          ]
        }
      ]
    },
    {
      "cell_type": "markdown",
      "source": [
        "**Problem 3**\n",
        "\n",
        "*   Use the string variable below and create a new variable that has all of the charachters from the original string as lowercase charachters\n",
        "\n",
        "\n"
      ],
      "metadata": {
        "id": "ZdxYpOtrnIz8"
      }
    },
    {
      "cell_type": "code",
      "source": [
        "new_str= \"“WHEN YOU Change your thougHts, remember to ALSO change your world.”\"\n",
        "lowercase_str = (new_str.lower())\n",
        "print(lowercase_str)"
      ],
      "metadata": {
        "id": "fciZlwkwnjNb",
        "colab": {
          "base_uri": "https://localhost:8080/"
        },
        "outputId": "cbe04064-c5b4-4cd3-fa65-c54ce50f1a27"
      },
      "execution_count": 9,
      "outputs": [
        {
          "output_type": "stream",
          "name": "stdout",
          "text": [
            "“when you change your thoughts, remember to also change your world.”\n"
          ]
        }
      ]
    },
    {
      "cell_type": "markdown",
      "source": [
        "**Problem 4**\n",
        "\n",
        "\n",
        "*   Take the new_str variable from above and make all of charachters uppercase\n",
        "\n",
        "\n"
      ],
      "metadata": {
        "id": "cip5r4CRn3G4"
      }
    },
    {
      "cell_type": "code",
      "source": [
        "upper_str = (new_str.upper())\n",
        "print(upper_str)"
      ],
      "metadata": {
        "id": "nFnFU3-ooHvA",
        "colab": {
          "base_uri": "https://localhost:8080/"
        },
        "outputId": "f98f874e-6464-4f32-c1c6-4fb71142ddb2"
      },
      "execution_count": 10,
      "outputs": [
        {
          "output_type": "stream",
          "name": "stdout",
          "text": [
            "“WHEN YOU CHANGE YOUR THOUGHTS, REMEMBER TO ALSO CHANGE YOUR WORLD.”\n"
          ]
        }
      ]
    },
    {
      "cell_type": "markdown",
      "source": [
        "**Problem 5**\n",
        "\n",
        "* Use the string variable below and the startswith() method to check and see if the string starts with the charachter \"Z\".\n",
        "* Check if it starts with the charachter \"t\"\n"
      ],
      "metadata": {
        "id": "HzCVplcwoPxU"
      }
    },
    {
      "cell_type": "code",
      "source": [
        "new_str= \"There are no traffic jams along the extra mile.\"\n",
        "print(new_str.startswith(\"Z\"))"
      ],
      "metadata": {
        "id": "1TAzCILcovZk",
        "colab": {
          "base_uri": "https://localhost:8080/"
        },
        "outputId": "fe4d710e-3ff7-49ed-f9e2-1dad76a99f4f"
      },
      "execution_count": 11,
      "outputs": [
        {
          "output_type": "stream",
          "name": "stdout",
          "text": [
            "False\n"
          ]
        }
      ]
    },
    {
      "cell_type": "markdown",
      "source": [
        "**Problem 6**\n",
        "\n",
        "\n",
        "\n",
        "*   Use the same new_str variable and the index() method to identify the index of charachter \"j\"\n",
        "\n",
        "\n"
      ],
      "metadata": {
        "id": "U5iHAc6MoubS"
      }
    },
    {
      "cell_type": "code",
      "source": [
        "print(new_str.index(\"j\"))"
      ],
      "metadata": {
        "id": "w3MhXXFxpTil",
        "colab": {
          "base_uri": "https://localhost:8080/"
        },
        "outputId": "4316f92a-a238-4eca-d709-a61913caf156"
      },
      "execution_count": 12,
      "outputs": [
        {
          "output_type": "stream",
          "name": "stdout",
          "text": [
            "21\n"
          ]
        }
      ]
    },
    {
      "cell_type": "markdown",
      "source": [
        "**Problem 7**\n",
        "\n",
        "*   Use the same new_str variable\n",
        "*   Use the count() method to find the number of times \"t\" and \"o\" appear in a string\n",
        "* Create a print statement that has both results in one statement. You can use string concatenation, fstring, or any other way you can think of!\n",
        "\n"
      ],
      "metadata": {
        "id": "63odwi1_pU-h"
      }
    },
    {
      "cell_type": "code",
      "source": [
        "a = new_str.count(\"t\")\n",
        "b = new_str.count(\"o\")\n",
        "print(\"The letter 't' appears {} times and the letter 'o' appears {} times.\".format(a,b))\n",
        "\n",
        "print(f\"The letter 't' appears {a} times and the letter 'o' appears {b} times.\")"
      ],
      "metadata": {
        "id": "2okBBd33p6O-",
        "colab": {
          "base_uri": "https://localhost:8080/"
        },
        "outputId": "d8d81431-2f50-4cbd-db1d-5da4acdd7892"
      },
      "execution_count": null,
      "outputs": [
        {
          "output_type": "stream",
          "name": "stdout",
          "text": [
            "The letter 't' appears 3 times and the letter 'o' appears 2 times.\n",
            "The letter 't' appears 3 times and the letter 'o' appears 2 times.\n"
          ]
        }
      ]
    },
    {
      "cell_type": "markdown",
      "source": [
        "**Problem 8**\n",
        "\n",
        "* Using the string below, find the length of the given string."
      ],
      "metadata": {
        "id": "u1UpWwGjp_qu"
      }
    },
    {
      "cell_type": "code",
      "source": [
        "greeting= \"Good Morning!\"\n",
        "print(len(greeting))"
      ],
      "metadata": {
        "id": "SAErNiQXqNiq",
        "colab": {
          "base_uri": "https://localhost:8080/"
        },
        "outputId": "b3b68760-37ee-440c-e9cf-7e3f1aa2b6a5"
      },
      "execution_count": 14,
      "outputs": [
        {
          "output_type": "stream",
          "name": "stdout",
          "text": [
            "13\n"
          ]
        }
      ]
    },
    {
      "cell_type": "markdown",
      "source": [
        "**Problem 9**\n",
        "\n",
        "\n",
        "\n",
        "*   Use the string below, and documentation on string methods to find if all the charachters in a string are alpha charachters.\n",
        "\n"
      ],
      "metadata": {
        "id": "PlVi5hw8q6ha"
      }
    },
    {
      "cell_type": "code",
      "source": [
        "alphabet= \"abcdefghijklmnopqrstuvwxyz\"\n",
        "print(alphabet.isalpha())"
      ],
      "metadata": {
        "id": "jBsKOU-drQdV",
        "colab": {
          "base_uri": "https://localhost:8080/"
        },
        "outputId": "f203686b-7368-44c0-b9f7-466a900e430c"
      },
      "execution_count": 19,
      "outputs": [
        {
          "output_type": "stream",
          "name": "stdout",
          "text": [
            "True\n"
          ]
        }
      ]
    },
    {
      "cell_type": "markdown",
      "source": [
        "**Problem 10**\n",
        "\n",
        "Use the string below to complete the following:\n",
        "\n",
        "\n",
        "*   Use the find() method for the value \"y\"\n",
        "*   Use the index() method for the value \"y\"\n",
        "*  Create a comment explaining the difference between the two methods\n",
        "\n",
        "\n",
        "\n"
      ],
      "metadata": {
        "id": "34l2TSFMrYvv"
      }
    },
    {
      "cell_type": "code",
      "source": [
        "learning= \"Learning is fun!\"\n",
        "print(\"To find the value y\",learning.find(\"y\"))\n",
        "try:\n",
        "    index_result = learning.index(\"y\")\n",
        "    print(\"Using index():\", index_result)\n",
        "except ValueError:\n",
        "    print(\"Using index(): The character 'y' is not found in the string.\")"
      ],
      "metadata": {
        "id": "8ki6bRY-sHBf",
        "colab": {
          "base_uri": "https://localhost:8080/"
        },
        "outputId": "fa63539c-8e7a-4180-cb46-0a3a0fd4aaca"
      },
      "execution_count": 22,
      "outputs": [
        {
          "output_type": "stream",
          "name": "stdout",
          "text": [
            "To find the value y -1\n",
            "Using index(): The character 'y' is not found in the string.\n"
          ]
        }
      ]
    },
    {
      "cell_type": "markdown",
      "source": [
        "# Problem 11\n",
        "\n",
        "Use the string below to count the number of times each charachter appears in a string."
      ],
      "metadata": {
        "id": "QtYuT-iB_ihF"
      }
    },
    {
      "cell_type": "code",
      "source": [
        "from collections import Counter\n",
        "count_string= \"Twinkle twinkle little star, how I wonder what you are\"\n",
        "char_count = Counter(count_string)\n",
        "for char, count in char_count.items():\n",
        "    print(f\"'{char}': {count}\")"
      ],
      "metadata": {
        "id": "_HCSppKL_1E_",
        "colab": {
          "base_uri": "https://localhost:8080/"
        },
        "outputId": "dc73677a-805b-4a47-ec9c-56fac1ebd3ba"
      },
      "execution_count": 24,
      "outputs": [
        {
          "output_type": "stream",
          "name": "stdout",
          "text": [
            "'T': 1\n",
            "'w': 5\n",
            "'i': 3\n",
            "'n': 3\n",
            "'k': 2\n",
            "'l': 4\n",
            "'e': 5\n",
            "' ': 9\n",
            "'t': 5\n",
            "'s': 1\n",
            "'a': 3\n",
            "'r': 3\n",
            "',': 1\n",
            "'h': 2\n",
            "'o': 3\n",
            "'I': 1\n",
            "'d': 1\n",
            "'y': 1\n",
            "'u': 1\n"
          ]
        }
      ]
    }
  ]
}